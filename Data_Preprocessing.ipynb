{
  "nbformat": 4,
  "nbformat_minor": 0,
  "metadata": {
    "colab": {
      "provenance": [],
      "gpuType": "T4"
    },
    "kernelspec": {
      "name": "python3",
      "display_name": "Python 3"
    },
    "language_info": {
      "name": "python"
    },
    "accelerator": "GPU"
  },
  "cells": [
    {
      "cell_type": "code",
      "execution_count": 2,
      "metadata": {
        "colab": {
          "base_uri": "https://localhost:8080/"
        },
        "id": "VeVNKITg4WRM",
        "outputId": "85ca9144-5f82-4815-d428-288e2ffb70fe"
      },
      "outputs": [
        {
          "output_type": "stream",
          "name": "stdout",
          "text": [
            "Mounted at /content/drive\n"
          ]
        }
      ],
      "source": [
        "from google.colab import drive\n",
        "drive.mount('/content/drive')"
      ]
    },
    {
      "cell_type": "markdown",
      "source": [
        "# Import important libraries"
      ],
      "metadata": {
        "id": "Q3q0uciG42jp"
      }
    },
    {
      "cell_type": "code",
      "source": [
        "import pandas as pd\n",
        "import numpy as np"
      ],
      "metadata": {
        "id": "WreNSt0I4nhS"
      },
      "execution_count": 8,
      "outputs": []
    },
    {
      "cell_type": "code",
      "source": [
        "data = pd.read_parquet('/content/drive/MyDrive/Query-Search-LLM-Model/all_data')"
      ],
      "metadata": {
        "id": "IgSOjBTy42Ki"
      },
      "execution_count": 44,
      "outputs": []
    },
    {
      "cell_type": "code",
      "source": [
        "data.head()"
      ],
      "metadata": {
        "colab": {
          "base_uri": "https://localhost:8080/",
          "height": 206
        },
        "id": "YtTn_GgTEkyB",
        "outputId": "7bc11d8d-e0a2-466f-e10c-56031e53f56f"
      },
      "execution_count": 45,
      "outputs": [
        {
          "output_type": "execute_result",
          "data": {
            "text/plain": [
              "                                               links  \\\n",
              "0  https://www.flannels.com/ami-paris-ami-de-coeu...   \n",
              "1  https://www.flannels.com/polo-ralph-lauren-pol...   \n",
              "2  https://www.flannels.com/boss-boss-bono-l-1024...   \n",
              "3  https://www.flannels.com/boss-ritom-half-zip-k...   \n",
              "4  https://www.flannels.com/stone-island-ghost-cr...   \n",
              "\n",
              "                        title              brand          color  \\\n",
              "0    Ami De Coeur Wool Jumper          AMI PARIS      BLUE 4843   \n",
              "1     Polo Knit Cardigan Sn41  Polo Ralph Lauren           Navy   \n",
              "2     Boss Bono-L 10243945 01               Boss  Dark Blue 404   \n",
              "3     Ritom Half Zip Knit Top               Boss       Blue 402   \n",
              "4  Ghost Crew Knit Sweatshirt       STONE ISLAND     Nero V0029   \n",
              "\n",
              "                                         description  \\\n",
              "0  Add a touch of Parisian sophistication to your...   \n",
              "1                                                      \n",
              "2                                                      \n",
              "3  Boss Ritom Half Zip Knit Top The Boss Ritom Ha...   \n",
              "4  Add an on-trend element to your everyday essen...   \n",
              "\n",
              "                                              images  category  \n",
              "0  [/content/drive/MyDrive/Query-Search-LLM-Model...  knitwear  \n",
              "1  [/content/drive/MyDrive/Query-Search-LLM-Model...  knitwear  \n",
              "2  [/content/drive/MyDrive/Query-Search-LLM-Model...  knitwear  \n",
              "3  [/content/drive/MyDrive/Query-Search-LLM-Model...  knitwear  \n",
              "4  [/content/drive/MyDrive/Query-Search-LLM-Model...  knitwear  "
            ],
            "text/html": [
              "\n",
              "  <div id=\"df-6e2d187f-03a6-41c0-ba7d-629fbe6cf81c\" class=\"colab-df-container\">\n",
              "    <div>\n",
              "<style scoped>\n",
              "    .dataframe tbody tr th:only-of-type {\n",
              "        vertical-align: middle;\n",
              "    }\n",
              "\n",
              "    .dataframe tbody tr th {\n",
              "        vertical-align: top;\n",
              "    }\n",
              "\n",
              "    .dataframe thead th {\n",
              "        text-align: right;\n",
              "    }\n",
              "</style>\n",
              "<table border=\"1\" class=\"dataframe\">\n",
              "  <thead>\n",
              "    <tr style=\"text-align: right;\">\n",
              "      <th></th>\n",
              "      <th>links</th>\n",
              "      <th>title</th>\n",
              "      <th>brand</th>\n",
              "      <th>color</th>\n",
              "      <th>description</th>\n",
              "      <th>images</th>\n",
              "      <th>category</th>\n",
              "    </tr>\n",
              "  </thead>\n",
              "  <tbody>\n",
              "    <tr>\n",
              "      <th>0</th>\n",
              "      <td>https://www.flannels.com/ami-paris-ami-de-coeu...</td>\n",
              "      <td>Ami De Coeur Wool Jumper</td>\n",
              "      <td>AMI PARIS</td>\n",
              "      <td>BLUE 4843</td>\n",
              "      <td>Add a touch of Parisian sophistication to your...</td>\n",
              "      <td>[/content/drive/MyDrive/Query-Search-LLM-Model...</td>\n",
              "      <td>knitwear</td>\n",
              "    </tr>\n",
              "    <tr>\n",
              "      <th>1</th>\n",
              "      <td>https://www.flannels.com/polo-ralph-lauren-pol...</td>\n",
              "      <td>Polo Knit Cardigan Sn41</td>\n",
              "      <td>Polo Ralph Lauren</td>\n",
              "      <td>Navy</td>\n",
              "      <td></td>\n",
              "      <td>[/content/drive/MyDrive/Query-Search-LLM-Model...</td>\n",
              "      <td>knitwear</td>\n",
              "    </tr>\n",
              "    <tr>\n",
              "      <th>2</th>\n",
              "      <td>https://www.flannels.com/boss-boss-bono-l-1024...</td>\n",
              "      <td>Boss Bono-L 10243945 01</td>\n",
              "      <td>Boss</td>\n",
              "      <td>Dark Blue 404</td>\n",
              "      <td></td>\n",
              "      <td>[/content/drive/MyDrive/Query-Search-LLM-Model...</td>\n",
              "      <td>knitwear</td>\n",
              "    </tr>\n",
              "    <tr>\n",
              "      <th>3</th>\n",
              "      <td>https://www.flannels.com/boss-ritom-half-zip-k...</td>\n",
              "      <td>Ritom Half Zip Knit Top</td>\n",
              "      <td>Boss</td>\n",
              "      <td>Blue 402</td>\n",
              "      <td>Boss Ritom Half Zip Knit Top The Boss Ritom Ha...</td>\n",
              "      <td>[/content/drive/MyDrive/Query-Search-LLM-Model...</td>\n",
              "      <td>knitwear</td>\n",
              "    </tr>\n",
              "    <tr>\n",
              "      <th>4</th>\n",
              "      <td>https://www.flannels.com/stone-island-ghost-cr...</td>\n",
              "      <td>Ghost Crew Knit Sweatshirt</td>\n",
              "      <td>STONE ISLAND</td>\n",
              "      <td>Nero V0029</td>\n",
              "      <td>Add an on-trend element to your everyday essen...</td>\n",
              "      <td>[/content/drive/MyDrive/Query-Search-LLM-Model...</td>\n",
              "      <td>knitwear</td>\n",
              "    </tr>\n",
              "  </tbody>\n",
              "</table>\n",
              "</div>\n",
              "    <div class=\"colab-df-buttons\">\n",
              "\n",
              "  <div class=\"colab-df-container\">\n",
              "    <button class=\"colab-df-convert\" onclick=\"convertToInteractive('df-6e2d187f-03a6-41c0-ba7d-629fbe6cf81c')\"\n",
              "            title=\"Convert this dataframe to an interactive table.\"\n",
              "            style=\"display:none;\">\n",
              "\n",
              "  <svg xmlns=\"http://www.w3.org/2000/svg\" height=\"24px\" viewBox=\"0 -960 960 960\">\n",
              "    <path d=\"M120-120v-720h720v720H120Zm60-500h600v-160H180v160Zm220 220h160v-160H400v160Zm0 220h160v-160H400v160ZM180-400h160v-160H180v160Zm440 0h160v-160H620v160ZM180-180h160v-160H180v160Zm440 0h160v-160H620v160Z\"/>\n",
              "  </svg>\n",
              "    </button>\n",
              "\n",
              "  <style>\n",
              "    .colab-df-container {\n",
              "      display:flex;\n",
              "      gap: 12px;\n",
              "    }\n",
              "\n",
              "    .colab-df-convert {\n",
              "      background-color: #E8F0FE;\n",
              "      border: none;\n",
              "      border-radius: 50%;\n",
              "      cursor: pointer;\n",
              "      display: none;\n",
              "      fill: #1967D2;\n",
              "      height: 32px;\n",
              "      padding: 0 0 0 0;\n",
              "      width: 32px;\n",
              "    }\n",
              "\n",
              "    .colab-df-convert:hover {\n",
              "      background-color: #E2EBFA;\n",
              "      box-shadow: 0px 1px 2px rgba(60, 64, 67, 0.3), 0px 1px 3px 1px rgba(60, 64, 67, 0.15);\n",
              "      fill: #174EA6;\n",
              "    }\n",
              "\n",
              "    .colab-df-buttons div {\n",
              "      margin-bottom: 4px;\n",
              "    }\n",
              "\n",
              "    [theme=dark] .colab-df-convert {\n",
              "      background-color: #3B4455;\n",
              "      fill: #D2E3FC;\n",
              "    }\n",
              "\n",
              "    [theme=dark] .colab-df-convert:hover {\n",
              "      background-color: #434B5C;\n",
              "      box-shadow: 0px 1px 3px 1px rgba(0, 0, 0, 0.15);\n",
              "      filter: drop-shadow(0px 1px 2px rgba(0, 0, 0, 0.3));\n",
              "      fill: #FFFFFF;\n",
              "    }\n",
              "  </style>\n",
              "\n",
              "    <script>\n",
              "      const buttonEl =\n",
              "        document.querySelector('#df-6e2d187f-03a6-41c0-ba7d-629fbe6cf81c button.colab-df-convert');\n",
              "      buttonEl.style.display =\n",
              "        google.colab.kernel.accessAllowed ? 'block' : 'none';\n",
              "\n",
              "      async function convertToInteractive(key) {\n",
              "        const element = document.querySelector('#df-6e2d187f-03a6-41c0-ba7d-629fbe6cf81c');\n",
              "        const dataTable =\n",
              "          await google.colab.kernel.invokeFunction('convertToInteractive',\n",
              "                                                    [key], {});\n",
              "        if (!dataTable) return;\n",
              "\n",
              "        const docLinkHtml = 'Like what you see? Visit the ' +\n",
              "          '<a target=\"_blank\" href=https://colab.research.google.com/notebooks/data_table.ipynb>data table notebook</a>'\n",
              "          + ' to learn more about interactive tables.';\n",
              "        element.innerHTML = '';\n",
              "        dataTable['output_type'] = 'display_data';\n",
              "        await google.colab.output.renderOutput(dataTable, element);\n",
              "        const docLink = document.createElement('div');\n",
              "        docLink.innerHTML = docLinkHtml;\n",
              "        element.appendChild(docLink);\n",
              "      }\n",
              "    </script>\n",
              "  </div>\n",
              "\n",
              "\n",
              "<div id=\"df-12699cea-c25e-4757-8006-8736fda477b0\">\n",
              "  <button class=\"colab-df-quickchart\" onclick=\"quickchart('df-12699cea-c25e-4757-8006-8736fda477b0')\"\n",
              "            title=\"Suggest charts\"\n",
              "            style=\"display:none;\">\n",
              "\n",
              "<svg xmlns=\"http://www.w3.org/2000/svg\" height=\"24px\"viewBox=\"0 0 24 24\"\n",
              "     width=\"24px\">\n",
              "    <g>\n",
              "        <path d=\"M19 3H5c-1.1 0-2 .9-2 2v14c0 1.1.9 2 2 2h14c1.1 0 2-.9 2-2V5c0-1.1-.9-2-2-2zM9 17H7v-7h2v7zm4 0h-2V7h2v10zm4 0h-2v-4h2v4z\"/>\n",
              "    </g>\n",
              "</svg>\n",
              "  </button>\n",
              "\n",
              "<style>\n",
              "  .colab-df-quickchart {\n",
              "      --bg-color: #E8F0FE;\n",
              "      --fill-color: #1967D2;\n",
              "      --hover-bg-color: #E2EBFA;\n",
              "      --hover-fill-color: #174EA6;\n",
              "      --disabled-fill-color: #AAA;\n",
              "      --disabled-bg-color: #DDD;\n",
              "  }\n",
              "\n",
              "  [theme=dark] .colab-df-quickchart {\n",
              "      --bg-color: #3B4455;\n",
              "      --fill-color: #D2E3FC;\n",
              "      --hover-bg-color: #434B5C;\n",
              "      --hover-fill-color: #FFFFFF;\n",
              "      --disabled-bg-color: #3B4455;\n",
              "      --disabled-fill-color: #666;\n",
              "  }\n",
              "\n",
              "  .colab-df-quickchart {\n",
              "    background-color: var(--bg-color);\n",
              "    border: none;\n",
              "    border-radius: 50%;\n",
              "    cursor: pointer;\n",
              "    display: none;\n",
              "    fill: var(--fill-color);\n",
              "    height: 32px;\n",
              "    padding: 0;\n",
              "    width: 32px;\n",
              "  }\n",
              "\n",
              "  .colab-df-quickchart:hover {\n",
              "    background-color: var(--hover-bg-color);\n",
              "    box-shadow: 0 1px 2px rgba(60, 64, 67, 0.3), 0 1px 3px 1px rgba(60, 64, 67, 0.15);\n",
              "    fill: var(--button-hover-fill-color);\n",
              "  }\n",
              "\n",
              "  .colab-df-quickchart-complete:disabled,\n",
              "  .colab-df-quickchart-complete:disabled:hover {\n",
              "    background-color: var(--disabled-bg-color);\n",
              "    fill: var(--disabled-fill-color);\n",
              "    box-shadow: none;\n",
              "  }\n",
              "\n",
              "  .colab-df-spinner {\n",
              "    border: 2px solid var(--fill-color);\n",
              "    border-color: transparent;\n",
              "    border-bottom-color: var(--fill-color);\n",
              "    animation:\n",
              "      spin 1s steps(1) infinite;\n",
              "  }\n",
              "\n",
              "  @keyframes spin {\n",
              "    0% {\n",
              "      border-color: transparent;\n",
              "      border-bottom-color: var(--fill-color);\n",
              "      border-left-color: var(--fill-color);\n",
              "    }\n",
              "    20% {\n",
              "      border-color: transparent;\n",
              "      border-left-color: var(--fill-color);\n",
              "      border-top-color: var(--fill-color);\n",
              "    }\n",
              "    30% {\n",
              "      border-color: transparent;\n",
              "      border-left-color: var(--fill-color);\n",
              "      border-top-color: var(--fill-color);\n",
              "      border-right-color: var(--fill-color);\n",
              "    }\n",
              "    40% {\n",
              "      border-color: transparent;\n",
              "      border-right-color: var(--fill-color);\n",
              "      border-top-color: var(--fill-color);\n",
              "    }\n",
              "    60% {\n",
              "      border-color: transparent;\n",
              "      border-right-color: var(--fill-color);\n",
              "    }\n",
              "    80% {\n",
              "      border-color: transparent;\n",
              "      border-right-color: var(--fill-color);\n",
              "      border-bottom-color: var(--fill-color);\n",
              "    }\n",
              "    90% {\n",
              "      border-color: transparent;\n",
              "      border-bottom-color: var(--fill-color);\n",
              "    }\n",
              "  }\n",
              "</style>\n",
              "\n",
              "  <script>\n",
              "    async function quickchart(key) {\n",
              "      const quickchartButtonEl =\n",
              "        document.querySelector('#' + key + ' button');\n",
              "      quickchartButtonEl.disabled = true;  // To prevent multiple clicks.\n",
              "      quickchartButtonEl.classList.add('colab-df-spinner');\n",
              "      try {\n",
              "        const charts = await google.colab.kernel.invokeFunction(\n",
              "            'suggestCharts', [key], {});\n",
              "      } catch (error) {\n",
              "        console.error('Error during call to suggestCharts:', error);\n",
              "      }\n",
              "      quickchartButtonEl.classList.remove('colab-df-spinner');\n",
              "      quickchartButtonEl.classList.add('colab-df-quickchart-complete');\n",
              "    }\n",
              "    (() => {\n",
              "      let quickchartButtonEl =\n",
              "        document.querySelector('#df-12699cea-c25e-4757-8006-8736fda477b0 button');\n",
              "      quickchartButtonEl.style.display =\n",
              "        google.colab.kernel.accessAllowed ? 'block' : 'none';\n",
              "    })();\n",
              "  </script>\n",
              "</div>\n",
              "\n",
              "    </div>\n",
              "  </div>\n"
            ],
            "application/vnd.google.colaboratory.intrinsic+json": {
              "type": "dataframe",
              "variable_name": "data",
              "summary": "{\n  \"name\": \"data\",\n  \"rows\": 18883,\n  \"fields\": [\n    {\n      \"column\": \"links\",\n      \"properties\": {\n        \"dtype\": \"string\",\n        \"num_unique_values\": 18824,\n        \"samples\": [\n          \"https://www.flannels.com/cp-company-goggle-hoodie-532343#colcode=53234320\",\n          \"https://www.flannels.com/mallet-lux-fused-runners-128418#colcode=12841818\",\n          \"https://www.flannels.com/michael-kors-empire-link-logo-jacquard-jumper-312781#colcode=31278103\"\n        ],\n        \"semantic_type\": \"\",\n        \"description\": \"\"\n      }\n    },\n    {\n      \"column\": \"title\",\n      \"properties\": {\n        \"dtype\": \"string\",\n        \"num_unique_values\": 11440,\n        \"samples\": [\n          \"Federal Slim Straight Fit Jeans\",\n          \"Censored Heron Hoodie\",\n          \"La Graphic Shirt\"\n        ],\n        \"semantic_type\": \"\",\n        \"description\": \"\"\n      }\n    },\n    {\n      \"column\": \"brand\",\n      \"properties\": {\n        \"dtype\": \"category\",\n        \"num_unique_values\": 352,\n        \"samples\": [\n          \"MIZUNO\",\n          \"NEW BALANCE\",\n          \"RICHARD JAMES\"\n        ],\n        \"semantic_type\": \"\",\n        \"description\": \"\"\n      }\n    },\n    {\n      \"column\": \"color\",\n      \"properties\": {\n        \"dtype\": \"category\",\n        \"num_unique_values\": 4075,\n        \"samples\": [\n          \"Brown/Beige\",\n          \"Medium Indigo\",\n          \"White/Navy/Red\"\n        ],\n        \"semantic_type\": \"\",\n        \"description\": \"\"\n      }\n    },\n    {\n      \"column\": \"description\",\n      \"properties\": {\n        \"dtype\": \"category\",\n        \"num_unique_values\": 7465,\n        \"samples\": [\n          \"Immerse yourself into the world of sophisticated style and sustainable luxury with Raeburn's Zip-Up Overshirt. Crafted from recycled nylon, this lightweight and water-resistant piece boasts breathability. The fully lined construction ensures both comfort and durability, while the full-zip closure adds a touch of versatility. The long sleeves provide coverage and warmth making this a transitional garment, and the two slip-side pockets offer convenient storage for essentials. The snap button fastenings on the cuffs add a refined touch, while the regular fit and pointed collar provide a timeless appeal. The branding on the upper left sleeve serves as a mark of distinction, however, the key feature is the signature tonal tape detail that runs throughout the body and sleeves, showcasing attention to detail and adding a touch of exclusivity. Whether you are off on a weekend adventure or a casual day out, this jacket is the ideal versatile piece ready to effortlessly elevate your daily ensemble.Machine wash, follow care instructions.\",\n          \"A tried and true staple in the modern mans wardrobe, the Barbour Denwick Polo Shirt is a must have style for everyday styling. Cut to a tailored fit, this cotton pique style features novelty stripe tipping to the collar and cuffs with contrasting Barbour crest embroidery to the chest.\",\n          \"Add a touch of style and practicality into your outer wear with the fashionable Ghost Vent HD Jacket from designers at Stone Island. Expertly constructed in a nylon fabrication, this jacket comes in a long sleeve hooded design with a series of vents. Boasting a stylish stand collar with concealed hood held by snaps on the inner nylon ribbing. The jacket is easily and securely fastened using a sleek two way zip fastener under the placket held by hidden snap buttons. On the chest, a horizontal fixed flap is attached serving as the closing feature, with a hidden snap closure, of the two bellows pockets. Additional slanted side pockets with flaps are easily closed using snap fastenings. For a more comfortable and secure fitting, the hood has an elasticated drawstring and the cuffs have a strap which is adaptable so you can find the optimum fit. A storm flap to the back with ventilation features, ensures the jacket is more breathable and regulates the temperature better. The look is finished in a solid block colouring and completed with the iconic Stone Island logo in a stylish tone on tone badge signing off the jacket with a deluxe finish. Garment Care: Follow care instructions.\"\n        ],\n        \"semantic_type\": \"\",\n        \"description\": \"\"\n      }\n    },\n    {\n      \"column\": \"images\",\n      \"properties\": {\n        \"dtype\": \"object\",\n        \"semantic_type\": \"\",\n        \"description\": \"\"\n      }\n    },\n    {\n      \"column\": \"category\",\n      \"properties\": {\n        \"dtype\": \"category\",\n        \"num_unique_values\": 9,\n        \"samples\": [\n          \"jeans\",\n          \"shoes\",\n          \"polo_shirts\"\n        ],\n        \"semantic_type\": \"\",\n        \"description\": \"\"\n      }\n    }\n  ]\n}"
            }
          },
          "metadata": {},
          "execution_count": 45
        }
      ]
    },
    {
      "cell_type": "markdown",
      "source": [
        "# Class for data cleaning"
      ],
      "metadata": {
        "id": "Lq6li622HP0o"
      }
    },
    {
      "cell_type": "code",
      "source": [
        "class DataCleaning:\n",
        "    def __init__(self, data):\n",
        "        self.data = data\n",
        "        self.indices_1 = data[data.description == ''].index\n",
        "        self.indices_2 = data[data.images.isna()].index\n",
        "        self.indices_3 = data[data.description.str.len() < 100].index\n",
        "\n",
        "    def clean_data(self):\n",
        "        \"\"\"Deleteing rows which do not have description or images and which has description less than 100 letter.\"\"\"\n",
        "        indices = self.indices_1.union(self.indices_2)\n",
        "        indices = indices.union(self.indices_3)\n",
        "        self.data = self.data.drop(indices)\n",
        "        return self.data\n",
        "\n",
        "    def incorporate(self):\n",
        "        self.data['Description'] = self.data.apply(\n",
        "            lambda row: f\"Title of the product is {row.title}. Brand of the product is {row.brand}. Color of the product is {row.color}. Category of the product is {row.category}. Description of the product is: {row.description}.\",\n",
        "            axis=1\n",
        "        )\n",
        "        return self.data\n",
        "    def get_clean_data(self):\n",
        "        self.data = self.clean_data()\n",
        "        self.data = self.incorporate()\n",
        "        return self.data[['links', 'Description', 'images']]"
      ],
      "metadata": {
        "id": "ObV7ITBcCyXm"
      },
      "execution_count": 46,
      "outputs": []
    },
    {
      "cell_type": "code",
      "source": [
        "cleaning = DataCleaning(data)"
      ],
      "metadata": {
        "id": "TuzbdQDoGtbK"
      },
      "execution_count": 47,
      "outputs": []
    },
    {
      "cell_type": "code",
      "source": [
        "data = cleaning.get_clean_data()"
      ],
      "metadata": {
        "id": "x-n4bAw3GwM3"
      },
      "execution_count": 48,
      "outputs": []
    },
    {
      "cell_type": "code",
      "source": [
        "data['Description'][19]"
      ],
      "metadata": {
        "colab": {
          "base_uri": "https://localhost:8080/",
          "height": 87
        },
        "id": "QgZlxoj4GxeB",
        "outputId": "43f34f75-dd4e-4ce8-8d3d-26c2a5851df7"
      },
      "execution_count": 49,
      "outputs": [
        {
          "output_type": "execute_result",
          "data": {
            "text/plain": [
              "'Title of the product is Half Zip Sweater With Buttons. Brand of the product is STONE ISLAND. Color of the product is Noce V0075. Category of the product is knitwear. Description of the product is: Step out in style with the Half Zip Sweater with Buttons by Stone Island, the perfect choice for both days in the city and drinks with friends. Effortlessly pairing with any ensemble or wardrobe staples, this classic jumper exudes timeless style while keeping you warm and cosy in colder weather thanks to its lambswool construction. Product Highlights: - Half zip fastening with button placket: allows you to seamlessly adjust the style in seconds. - Stone Island badge: proudly adorns the left sleeve for a stamp of iconic style and luxury exclusivity. - Composition: 80% wool, 20% polyamide. - Care: hand wash..'"
            ],
            "application/vnd.google.colaboratory.intrinsic+json": {
              "type": "string"
            }
          },
          "metadata": {},
          "execution_count": 49
        }
      ]
    },
    {
      "cell_type": "code",
      "source": [
        "data['images'][19]"
      ],
      "metadata": {
        "colab": {
          "base_uri": "https://localhost:8080/"
        },
        "id": "bC0wA7kpG1Nx",
        "outputId": "6a39b887-1138-484b-9be2-fff28f6e06e4"
      },
      "execution_count": 50,
      "outputs": [
        {
          "output_type": "execute_result",
          "data": {
            "text/plain": [
              "array(['/content/drive/MyDrive/Query-Search-LLM-Model/images/knitwear_49_image_0.png',\n",
              "       '/content/drive/MyDrive/Query-Search-LLM-Model/images/knitwear_49_image_1.png',\n",
              "       '/content/drive/MyDrive/Query-Search-LLM-Model/images/knitwear_49_image_2.png',\n",
              "       '/content/drive/MyDrive/Query-Search-LLM-Model/images/knitwear_49_image_3.png'],\n",
              "      dtype=object)"
            ]
          },
          "metadata": {},
          "execution_count": 50
        }
      ]
    },
    {
      "cell_type": "code",
      "source": [
        "data.columns"
      ],
      "metadata": {
        "colab": {
          "base_uri": "https://localhost:8080/"
        },
        "id": "CELPpluQH62T",
        "outputId": "6dd2922a-ff41-49c1-c08a-d25ef93e768a"
      },
      "execution_count": 51,
      "outputs": [
        {
          "output_type": "execute_result",
          "data": {
            "text/plain": [
              "Index(['links', 'Description', 'images'], dtype='object')"
            ]
          },
          "metadata": {},
          "execution_count": 51
        }
      ]
    },
    {
      "cell_type": "markdown",
      "source": [
        "# Save data"
      ],
      "metadata": {
        "id": "gb3nOn9CIz2e"
      }
    },
    {
      "cell_type": "code",
      "source": [
        "data.to_parquet('/content/drive/MyDrive/Query-Search-LLM-Model/clean_data')"
      ],
      "metadata": {
        "id": "dqILWcOoIwxl"
      },
      "execution_count": 52,
      "outputs": []
    }
  ]
}